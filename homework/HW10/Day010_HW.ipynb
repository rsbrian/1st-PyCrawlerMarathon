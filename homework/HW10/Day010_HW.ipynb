{
 "cells": [
  {
   "cell_type": "markdown",
   "metadata": {},
   "source": [
    "# 其他工具：Grab、PyQuery\n",
    "\n",
    "\n",
    "* 利用 Grab 套件的存取 HTML 資源\n",
    "* 利用 PyQuery 套件的解析 HTML 格式\n"
   ]
  },
  {
   "cell_type": "markdown",
   "metadata": {},
   "source": [
    "## 作業目標\n",
    "\n",
    "將之前用 requests + beatifulsoup 實作的方式，改寫成 grab + pyquery，並且比較有哪些地方不同。\n",
    "\n"
   ]
  },
  {
   "cell_type": "markdown",
   "metadata": {},
   "source": [
    "## requests + BeautifulSoup\n"
   ]
  },
  {
   "cell_type": "code",
   "execution_count": 91,
   "metadata": {},
   "outputs": [
    {
     "name": "stdout",
     "output_type": "stream",
     "text": [
      "https://imgur.com/Cgb5oo1\n",
      "Save image as downloads/Cgb5oo1.jpeg\n",
      "https://imgur.com/MgjHY4f\n",
      "Save image as downloads/MgjHY4f.jpeg\n",
      "https://imgur.com/yeoRtAs\n",
      "Save image as downloads/yeoRtAs.jpeg\n",
      "https://imgur.com/wsauNEW\n",
      "Save image as downloads/wsauNEW.jpeg\n",
      "https://imgur.com/IjiETcs\n",
      "Save image as downloads/IjiETcs.jpeg\n"
     ]
    }
   ],
   "source": [
    "import requests\n",
    "import os\n",
    "\n",
    "from bs4 import BeautifulSoup\n",
    "from PIL import Image\n",
    "\n",
    "url = 'https://www.ptt.cc/bbs/Beauty/M.1556291059.A.75A.html'\n",
    "resp = requests.get(url, cookies={'over18': '1'})\n",
    "soup = BeautifulSoup(resp.text)\n",
    "# 決定要儲存的資料夾\n",
    "output_dir = 'downloads'\n",
    "\n",
    "# 假如資料夾不存在就新增一個資料夾\n",
    "if not os.path.exists(output_dir):\n",
    "    os.makedirs(output_dir)\n",
    "\n",
    "# 定位所有圖片的 tag\n",
    "image_tags = soup.find_all('a',rel='nofollow')\n",
    "for img_tag in image_tags:\n",
    "    # 取得所有圖片在第三方服務的 id\n",
    "    if 'imgur' not in img_tag['href']:\n",
    "        continue\n",
    "    print(img_tag['href'])\n",
    "    img_id = img_tag['href'].split('/')[-1]\n",
    "    # 組合圖片而非網站的網址\n",
    "    img_url = 'https://i.imgur.com/{}.jpg'.format(img_id)\n",
    "    # 對圖片送出請求\n",
    "    with requests.get(img_url, stream=True) as r:\n",
    "        r.raise_for_status()\n",
    "        # 檢查圖片副檔名\n",
    "        img = Image.open(r.raw)\n",
    "        img_savename = '{outdir}/{img_id}.{img_ext}'.format(outdir=output_dir,img_id=img_id,img_ext=img.format.lower())\n",
    "        img.save(img_savename)\n",
    "        print('Save image as {}'.format(img_savename))"
   ]
  },
  {
   "cell_type": "markdown",
   "metadata": {},
   "source": [
    "## Grab + PyQuery"
   ]
  },
  {
   "cell_type": "code",
   "execution_count": 123,
   "metadata": {
    "scrolled": false
   },
   "outputs": [
    {
     "name": "stdout",
     "output_type": "stream",
     "text": [
      "Save image as downloads1/Cgb5oo1.jpeg\n",
      "Save image as downloads1/MgjHY4f.jpeg\n",
      "Save image as downloads1/yeoRtAs.jpeg\n",
      "Save image as downloads1/wsauNEW.jpeg\n",
      "Save image as downloads1/IjiETcs.jpeg\n"
     ]
    }
   ],
   "source": [
    "from grab import Grab\n",
    "from pyquery import PyQuery as pq\n",
    "from PIL import Image, ImageFile\n",
    "import io\n",
    "\n",
    "url = 'https://www.ptt.cc/bbs/Beauty/M.1556291059.A.75A.html'\n",
    "g = Grab(user_agent='grab')\n",
    "cookies = {'over18':'1'}\n",
    "resp = g.go(url, cookies=cookies)\n",
    "#print(resp.body)\n",
    "doc = pq(resp.body)\n",
    "# 決定要儲存的資料夾\n",
    "output_dir = 'downloads1'\n",
    "\n",
    "# 假如資料夾不存在就新增一個資料夾\n",
    "if not os.path.exists(output_dir):\n",
    "    os.makedirs(output_dir)\n",
    "\n",
    "# 定位所有圖片的 tag\n",
    "images = []\n",
    "for i in doc.items('a'):\n",
    "    if 'imgur' not in i.attr('href'):\n",
    "        continue\n",
    "    img_id = i.attr('href').split('/')[-1]\n",
    "    if img_id not in images:\n",
    "        images.append(img_id)\n",
    "    else:\n",
    "        continue\n",
    "        \n",
    "    # 組合圖片而非網站的網址\n",
    "    img_url = 'https://i.imgur.com/{}.jpg'.format(img_id)\n",
    "    # 對圖片送出請求；同時需要重新建立Grab()，才不會抓不到資料\n",
    "    gb = Grab()\n",
    "    r = gb.go(img_url)\n",
    "    tempfile = '{}.jpg'.format(img_id)\n",
    "    open(tempfile, 'wb').write(r.body)\n",
    "    \n",
    "    img = Image.open(tempfile)\n",
    "    img_savename = '{outdir}/{img_id}.{img_ext}'.format(outdir=output_dir,img_id=img_id,img_ext=img.format.lower())\n",
    "    img.save(img_savename)\n",
    "    print('Save image as {}'.format(img_savename))\n",
    "\n"
   ]
  },
  {
   "cell_type": "code",
   "execution_count": null,
   "metadata": {},
   "outputs": [],
   "source": []
  }
 ],
 "metadata": {
  "kernelspec": {
   "display_name": "Python 3",
   "language": "python",
   "name": "python3"
  },
  "language_info": {
   "codemirror_mode": {
    "name": "ipython",
    "version": 3
   },
   "file_extension": ".py",
   "mimetype": "text/x-python",
   "name": "python",
   "nbconvert_exporter": "python",
   "pygments_lexer": "ipython3",
   "version": "3.7.4"
  }
 },
 "nbformat": 4,
 "nbformat_minor": 2
}
