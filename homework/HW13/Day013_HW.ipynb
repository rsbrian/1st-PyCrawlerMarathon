{
 "cells": [
  {
   "cell_type": "markdown",
   "metadata": {},
   "source": [
    "# PTT 網路爬蟲實作練習\n",
    "\n",
    "\n",
    "* 能夠利用 requests + BeautifulSoup 撰寫爬蟲，並存放到合適的資料結構\n"
   ]
  },
  {
   "cell_type": "markdown",
   "metadata": {},
   "source": [
    "## 作業目標\n",
    "\n",
    "根據範例 ，完成以下問題：\n",
    "\n",
    "* ① 印出最新文章的「作者」「標題」「時間」\n",
    "* ② 印出第一頁所有文章的「作者」「標題」「時間」\n"
   ]
  },
  {
   "cell_type": "markdown",
   "metadata": {},
   "source": [
    "### ① 印出最新文章的「作者」「標題」「時間」"
   ]
  },
  {
   "cell_type": "code",
   "execution_count": 30,
   "metadata": {},
   "outputs": [
    {
     "name": "stdout",
     "output_type": "stream",
     "text": [
      "作者[Wall62]\n",
      "標題[Re: [花邊] 字母哥把球鞋送給幸運小球迷]\n",
      "時間[12/24]\n"
     ]
    }
   ],
   "source": [
    "import requests\n",
    "from bs4 import BeautifulSoup\n",
    "\n",
    "target_url = 'https://www.ptt.cc/bbs/NBA/index.html'\n",
    "resp = requests.get(target_url)\n",
    "soup = BeautifulSoup(resp.text,'html5lib')\n",
    "\n",
    "#prefix_regex = '^\\s+' # 同 lstrip()\n",
    "#postfix_regex = '\\s+$' #同 rstrip()\n",
    "\n",
    "latest = soup.find(attrs={'class':'r-ent'})\n",
    "print('作者[{}]'.format(latest.find(attrs={'class':'author'}).text))\n",
    "print('標題[{}]'.format(latest.find(attrs={'class':'title'}).text.strip()))\n",
    "print('時間[{}]'.format(latest.find(attrs={'class':'date'}).text))\n",
    "\n"
   ]
  },
  {
   "cell_type": "markdown",
   "metadata": {},
   "source": [
    "### ② 印出第一頁所有文章的「作者」「標題」「時間」"
   ]
  },
  {
   "cell_type": "code",
   "execution_count": 31,
   "metadata": {},
   "outputs": [
    {
     "name": "stdout",
     "output_type": "stream",
     "text": [
      "作者[Wall62]\n",
      "標題[Re: [花邊] 字母哥把球鞋送給幸運小球迷]\n",
      "時間[12/24]\n",
      "作者[ChrisDavis]\n",
      "標題[[討論] 灰狼是不是still the same?]\n",
      "時間[12/24]\n",
      "作者[NSYSUheng]\n",
      "標題[[情報] Harden罰球命中數超越Shaquille O'Neal]\n",
      "時間[12/24]\n",
      "作者[kobe30418]\n",
      "標題[[討論] 選秀年的深度或是說大年怎麼看？]\n",
      "時間[12/24]\n",
      "作者[iam168888888]\n",
      "標題[[新聞] 馬刺狂轟145分 Popovich任內次高]\n",
      "時間[12/24]\n",
      "作者[Gotham]\n",
      "標題[[新聞] 3分球10投盡墨 里拉德：凡事總有第一次]\n",
      "時間[12/24]\n",
      "作者[ghost069]\n",
      "標題[[討論] 當初的雷霆三少誰的帶隊能力最好]\n",
      "時間[12/25]\n",
      "作者[currykukuo]\n",
      "標題[[花邊] LBJ和AD預計會出席聖誕大戰]\n",
      "時間[12/25]\n",
      "作者[jokername]\n",
      "標題[Re: [討論] 打nba是不是天生註定的？]\n",
      "時間[12/25]\n",
      "作者[Malpais]\n",
      "標題[[情報] Kyrie Irving 可能再延後2-3週才復出]\n",
      "時間[12/25]\n",
      "作者[currykukuo]\n",
      "標題[[情報] 季中錦標賽冠軍 可能有額外首輪選秀權]\n",
      "時間[12/25]\n",
      "作者[TheoEpstein]\n",
      "標題[Re: [討論] 選秀年的深度或是說大年怎麼看？]\n",
      "時間[12/25]\n",
      "作者[whj0530]\n",
      "標題[[情報] Love:得知Clarkson交易讓我坐到了地上，]\n",
      "時間[12/25]\n",
      "作者[nwd4e9cd]\n",
      "標題[[花邊] Justin Holiday賽前和自己女兒玩耍]\n",
      "時間[12/25]\n",
      "作者[s27052705]\n",
      "標題[[花邊] 在24或25歲，字母哥和詹姆斯誰更有統治]\n",
      "時間[12/25]\n",
      "作者[kairiyu]\n",
      "標題[[情報] 富比士公布過去10年全球收入最高的運動員前十名，#4LBJ#9KD]\n",
      "時間[12/25]\n",
      "作者[Wojnarowski]\n",
      "標題[[花邊] JR Smith：有多少球隊缺少能投又能防的人]\n",
      "時間[12/25]\n",
      "作者[manuginobii]\n",
      "標題[[情報] Leonard談不當要求傳聞：從來沒聽過]\n",
      "時間[12/25]\n",
      "作者[yowhatsupsli]\n",
      "標題[[花邊] Kevin Love IG]\n",
      "時間[12/25]\n",
      "作者[pneumo]\n",
      "標題[[花邊] 跟哪個最會講垃圾話球員打過球 KG:Pierce]\n",
      "時間[12/25]\n",
      "作者[Vedan]\n",
      "標題[[公告] 板規v6.7]\n",
      "時間[ 5/24]\n",
      "作者[Vedan]\n",
      "標題[[公告] 樂透取消及未來不再開啟樂透]\n",
      "時間[ 6/24]\n",
      "作者[qazwsx879345]\n",
      "標題[[公告] 版主上任相關事項]\n",
      "時間[10/25]\n",
      "作者[JerroLi]\n",
      "標題[[情報] SEASON Schedule 賽程 December 19–20]\n",
      "時間[11/29]\n"
     ]
    }
   ],
   "source": [
    "for item in soup.find_all(attrs={'class':'r-ent'}):\n",
    "    print('作者[{}]'.format(item.find(attrs={'class':'author'}).text))\n",
    "    print('標題[{}]'.format(item.find(attrs={'class':'title'}).text.strip()))\n",
    "    print('時間[{}]'.format(item.find(attrs={'class':'date'}).text))"
   ]
  },
  {
   "cell_type": "markdown",
   "metadata": {},
   "source": [
    "### ③ 試著爬爬看其他版的文章"
   ]
  },
  {
   "cell_type": "code",
   "execution_count": 39,
   "metadata": {},
   "outputs": [
    {
     "name": "stdout",
     "output_type": "stream",
     "text": [
      "作者[sky9527]\n",
      "標題[[神人] 北一女中 一張]\n",
      "時間[12/24]\n",
      "作者[CavendishJr]\n",
      "標題[[正妹] 平安夜的女聲優~]\n",
      "時間[12/24]\n",
      "作者[jeff09122]\n",
      "標題[[帥哥] 一張 大叔]\n",
      "時間[12/24]\n",
      "作者[ryanworld]\n",
      "標題[[帥哥] 一張 帥叔]\n",
      "時間[12/25]\n",
      "作者[ganilaushi]\n",
      "標題[[正妹] 聖誕老婆]\n",
      "時間[12/25]\n",
      "作者[james7923]\n",
      "標題[[新聞] 黑人朋友夜半迷失三重受助 大讚台灣女警]\n",
      "時間[12/25]\n",
      "作者[kelseyaya]\n",
      "標題[[廣告] AV 坂道みる 聖誕裝扮]\n",
      "時間[12/25]\n",
      "作者[asc7]\n",
      "標題[[正妹] 聖誕快樂]\n",
      "時間[12/25]\n",
      "作者[ReiKuromiya]\n",
      "標題[[正妹] 越南]\n",
      "時間[12/25]\n",
      "作者[CavendishJr]\n",
      "標題[Re: [正妹] 平安夜的女聲優~]\n",
      "時間[12/25]\n",
      "作者[phcebus]\n",
      "標題[Re: [挑戰] 你敢po女友上來嗎？]\n",
      "時間[12/25]\n",
      "作者[hateOnas]\n",
      "標題[[公告] 不願上表特 ＆ 優文推薦 ＆ 檢舉建議專區]\n",
      "時間[ 5/21]\n",
      "作者[hateOnas]\n",
      "標題[Fw: [公告] 請使用者多加注意我國保護兒少的法令]\n",
      "時間[ 7/24]\n",
      "作者[hateOnas]\n",
      "標題[[公告] 表特板板規(2019.7.26)]\n",
      "時間[ 7/26]\n",
      "作者[hateOnas]\n",
      "標題[[公告] 201907 板主徵選延長]\n",
      "時間[ 7/26]\n",
      "作者[hateOnas]\n",
      "標題[[公告] 請勿意淫推文]\n",
      "時間[11/23]\n"
     ]
    }
   ],
   "source": [
    "beauty_url = 'https://www.ptt.cc/bbs/Beauty/index.html'\n",
    "\n",
    "resp = requests.get(beauty_url,cookies={'over18':'1'})\n",
    "soup = BeautifulSoup(resp.text,'html5lib')\n",
    "for item in soup.find_all(attrs={'class':'r-ent'}):\n",
    "    print('作者[{}]'.format(item.find(attrs={'class':'author'}).text))\n",
    "    print('標題[{}]'.format(item.find(attrs={'class':'title'}).text.strip()))\n",
    "    print('時間[{}]'.format(item.find(attrs={'class':'date'}).text))"
   ]
  },
  {
   "cell_type": "code",
   "execution_count": null,
   "metadata": {},
   "outputs": [],
   "source": []
  }
 ],
 "metadata": {
  "kernelspec": {
   "display_name": "Python 3",
   "language": "python",
   "name": "python3"
  },
  "language_info": {
   "codemirror_mode": {
    "name": "ipython",
    "version": 3
   },
   "file_extension": ".py",
   "mimetype": "text/x-python",
   "name": "python",
   "nbconvert_exporter": "python",
   "pygments_lexer": "ipython3",
   "version": "3.7.4"
  }
 },
 "nbformat": 4,
 "nbformat_minor": 2
}
