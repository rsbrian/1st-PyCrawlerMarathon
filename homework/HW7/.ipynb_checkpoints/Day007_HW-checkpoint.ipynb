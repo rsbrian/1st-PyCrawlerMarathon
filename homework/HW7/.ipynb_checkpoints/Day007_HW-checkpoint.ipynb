{
 "cells": [
  {
   "cell_type": "markdown",
   "metadata": {},
   "source": [
    "# HTTP 靜態網頁架構說明\n",
    "\n",
    "* 認識靜態網頁的溝通架構與運作原理\n",
    "* HTML、CSS、JavaScript 在網頁中扮演的角色\n",
    "* 網頁中定位資料的方法"
   ]
  },
  {
   "cell_type": "markdown",
   "metadata": {},
   "source": [
    "## 作業目標\n",
    "\n",
    "1. （簡答題）請問目前提到的這種基於 HTTP 一來一回的網頁傳輸方式，有哪些缺點及問題？\n",
    "2. （簡答題）網頁中使用的 JavaScipt 程式語言，跟我們一般使用的 Python 在執行上有什麼不同。\n"
   ]
  },
  {
   "cell_type": "markdown",
   "metadata": {},
   "source": [
    "### 1.（簡答題）請問目前提到的這種基於 HTTP 一來一回的網頁傳輸方式，有哪些缺點及問題？"
   ]
  },
  {
   "cell_type": "code",
   "execution_count": 4,
   "metadata": {},
   "outputs": [
    {
     "data": {
      "text/plain": [
       "'\\n1. 安全性問題：無加密方式容易導致內容被截取獲得。\\n2. 以靜態網頁而言，若是需要更新內容，每次都需要向伺服器端重新發送Request，易造成傳輸量大及時間過長。\\n'"
      ]
     },
     "execution_count": 4,
     "metadata": {},
     "output_type": "execute_result"
    }
   ],
   "source": [
    "'''\n",
    "1. 安全性問題：無加密方式容易導致內容被截取獲得。\n",
    "2. 以靜態網頁而言，若是需要更新內容，每次都需要向伺服器端重新發送Request，易造成傳輸量大及時間過長。\n",
    "'''"
   ]
  },
  {
   "cell_type": "markdown",
   "metadata": {},
   "source": [
    "### 2. （簡答題）網頁中使用的 JavaScipt 程式語言，跟我們一般使用的 Python 在執行上有什麼不同。"
   ]
  },
  {
   "cell_type": "code",
   "execution_count": 3,
   "metadata": {},
   "outputs": [
    {
     "data": {
      "text/plain": [
       "'\\nJavaScript是一種動態腳本語言，而Python是一種編程語言。主要差異在於JavaScript可以在網頁加載完成後，再去修正網頁內容(HTML DOM/CSS)。\\n而Python常用於建構網站及應用程序。\\n'"
      ]
     },
     "execution_count": 3,
     "metadata": {},
     "output_type": "execute_result"
    }
   ],
   "source": [
    "'''\n",
    "JavaScript是一種動態腳本語言，而Python是一種編程語言。主要差異在於JavaScript可以在網頁加載完成後，再去修正網頁內容(HTML DOM/CSS)。\n",
    "而Python常用於建構網站及應用程序。\n",
    "'''"
   ]
  },
  {
   "cell_type": "code",
   "execution_count": null,
   "metadata": {},
   "outputs": [],
   "source": []
  }
 ],
 "metadata": {
  "kernelspec": {
   "display_name": "Python 3",
   "language": "python",
   "name": "python3"
  },
  "language_info": {
   "codemirror_mode": {
    "name": "ipython",
    "version": 3
   },
   "file_extension": ".py",
   "mimetype": "text/x-python",
   "name": "python",
   "nbconvert_exporter": "python",
   "pygments_lexer": "ipython3",
   "version": "3.7.4"
  }
 },
 "nbformat": 4,
 "nbformat_minor": 2
}
