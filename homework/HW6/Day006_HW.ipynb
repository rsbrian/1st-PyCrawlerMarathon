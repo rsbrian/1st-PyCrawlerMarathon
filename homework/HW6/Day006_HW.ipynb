{
 "cells": [
  {
   "cell_type": "markdown",
   "metadata": {},
   "source": [
    "# API 資料串接 - 以 知乎 API 實作範例\n",
    "\n",
    "\n",
    "\n",
    "* 了解知乎 API 使用方式與回傳內容\n",
    "* 撰寫程式存取 API 且添加標頭\n",
    "\n",
    "\n"
   ]
  },
  {
   "cell_type": "markdown",
   "metadata": {},
   "source": [
    "## 作業目標\n",
    "\n",
    "* 根據範例提供的 API ，完成以下問題：\n",
    "\n",
    "    1. 取出知乎問題發問時間\n",
    "    2. 取出第一筆與最後一筆回答的時間\n"
   ]
  },
  {
   "cell_type": "markdown",
   "metadata": {},
   "source": [
    "### 1. 取出知乎問題發問時間"
   ]
  },
  {
   "cell_type": "code",
   "execution_count": 10,
   "metadata": {},
   "outputs": [
    {
     "name": "stdout",
     "output_type": "stream",
     "text": [
      "1486390229\n",
      "Mon Feb  6 22:10:29 2017\n",
      "1486390229\n",
      "Mon Feb  6 22:10:29 2017\n",
      "1486390229\n",
      "Mon Feb  6 22:10:29 2017\n",
      "1486390229\n",
      "Mon Feb  6 22:10:29 2017\n",
      "1486390229\n",
      "Mon Feb  6 22:10:29 2017\n"
     ]
    }
   ],
   "source": [
    "# 1. 取出知乎問題發問時間\n",
    "\n",
    "import requests\n",
    "import json\n",
    "import time\n",
    "\n",
    "headers = {'user-agent': 'my-app/0.0.1'}\n",
    "r = requests.get('https://www.zhihu.com/api/v4/questions/55493026/answers',headers=headers)\n",
    "data = json.loads(r.text)\n",
    "\n",
    "# 透過迴圈取得所有key為question的創建時間，並透過time.asctime轉換為可讀的時間格式\n",
    "for d in data['data']:\n",
    "    print(time.asctime(time.localtime(d['question']['created'])))\n"
   ]
  },
  {
   "cell_type": "markdown",
   "metadata": {},
   "source": [
    "### 2. 取出第一筆與最後一筆回答的時間"
   ]
  },
  {
   "cell_type": "code",
   "execution_count": 21,
   "metadata": {},
   "outputs": [
    {
     "name": "stdout",
     "output_type": "stream",
     "text": [
      "回答的創建時間：Tue May 14 17:00:12 2019\n",
      "回答的更新時間：Tue May 14 17:00:12 2019\n",
      "回答的創建時間：Tue Oct 29 11:07:06 2019\n",
      "回答的更新時間：Tue Nov 26 16:14:14 2019\n"
     ]
    }
   ],
   "source": [
    "# 2. 取出第一筆與最後一筆回答的時間\n",
    "totalCount = len(data['data'])\n",
    "i = 0\n",
    "for d in data['data']:\n",
    "    if i == 0 or i == (totalCount-1):\n",
    "        print('回答的創建時間：' + time.asctime(time.localtime(d['created_time'])))\n",
    "        print('回答的更新時間：' + time.asctime(time.localtime(d['updated_time'])))\n",
    "    i += 1"
   ]
  },
  {
   "cell_type": "code",
   "execution_count": null,
   "metadata": {},
   "outputs": [],
   "source": []
  },
  {
   "cell_type": "code",
   "execution_count": null,
   "metadata": {},
   "outputs": [],
   "source": []
  },
  {
   "cell_type": "code",
   "execution_count": null,
   "metadata": {},
   "outputs": [],
   "source": []
  }
 ],
 "metadata": {
  "kernelspec": {
   "display_name": "Python 3",
   "language": "python",
   "name": "python3"
  },
  "language_info": {
   "codemirror_mode": {
    "name": "ipython",
    "version": 3
   },
   "file_extension": ".py",
   "mimetype": "text/x-python",
   "name": "python",
   "nbconvert_exporter": "python",
   "pygments_lexer": "ipython3",
   "version": "3.7.4"
  }
 },
 "nbformat": 4,
 "nbformat_minor": 2
}
