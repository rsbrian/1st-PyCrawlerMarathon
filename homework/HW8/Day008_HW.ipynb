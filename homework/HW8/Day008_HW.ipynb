{
 "cells": [
  {
   "cell_type": "markdown",
   "metadata": {},
   "source": [
    "# 靜態網頁的資料爬蟲策略\n",
    "\n",
    "\n",
    "* 了解靜態網頁的資料爬蟲策略\n",
    "* 認識適用於靜態網頁爬蟲的相關套件工具：Request\n",
    "* 認識適用於靜態網頁爬蟲的相關套件工具：BeatifulSoup"
   ]
  },
  {
   "cell_type": "markdown",
   "metadata": {},
   "source": [
    "## 作業目標\n",
    "\n",
    "利用 Request + BeatifulSoup 爬取下列兩個網站內容並解析：\n",
    "\n",
    "1. Dcared 網址： https://www.dcard.tw/f\n",
    "2. 知乎： https://www.zhihu.com/explore\n",
    "\n",
    "並且回答下面問題：\n",
    "\n",
    "1. Request 取回之後該怎麼取出資料，資料型態是什麼？\n",
    "2. 為什麼要使用 BeatifulSoup 處理？處理後的型態是什麼？\n",
    "3. 觀察一下知乎回來的資料好像有點怪怪的，該怎麼解決？"
   ]
  },
  {
   "cell_type": "markdown",
   "metadata": {},
   "source": [
    "### 1. Dcard 網址： https://www.dcard.tw/f"
   ]
  },
  {
   "cell_type": "code",
   "execution_count": 25,
   "metadata": {},
   "outputs": [],
   "source": [
    "import requests\n",
    "from bs4 import BeautifulSoup\n"
   ]
  },
  {
   "cell_type": "code",
   "execution_count": 26,
   "metadata": {},
   "outputs": [
    {
     "name": "stdout",
     "output_type": "stream",
     "text": [
      "<!DOCTYPE html><html lang=\"zh-Hant-TW\"><head prefix=\"og: http://ogp.me/ns#\" itemscope=\"\" itemType=\"https://schema.org/WebSite\"><title data-react-helmet=\"true\">Dcard</title><meta data-react-helmet=\"true\" property=\"og:image\" content=\"https://www.dcard.tw/build/landing-c9e7b8fb.png\"/><meta data-react-helmet=\"true\" property=\"og:image:secure_url\" content=\"https://www.dcard.tw/build/landing-c9e7b8fb.png\"/><meta data-react-helmet=\"true\" charSet=\"utf-8\"/><meta data-react-helmet=\"true\" http-equiv=\"X-UA-Compatible\" content=\"IE=edge\"/><meta data-react-helmet=\"true\" name=\"application-name\" content=\"Dcard\"/><meta data-react-helmet=\"true\" name=\"apple-itunes-app\" content=\"app-id=951353454\"/><meta data-react-helmet=\"true\" name=\"theme-color\" content=\"#006aa6\"/><meta data-react-helmet=\"true\" name=\"mobile-web-app-capable\" content=\"yes\"/><meta data-react-helmet=\"true\" name=\"apple-mobile-web-app-capable\" content=\"yes\"/><meta data-react-helmet=\"true\" property=\"fb:app_id\" content=\"211628828926493\"/><meta data-react-helmet=\"true\" property=\"fb:pages\" content=\"178875832200695,577748865730563,1333515469994506,619122564952487,804004803032067,178024805867764\"/><meta data-react-helmet=\"true\" property=\"al:ios:app_store_id\" content=\"951353454\"/><meta data-react-helmet=\"true\" property=\"al:ios:app_name\" content=\"Dcard\"/><meta data-react-helmet=\"true\" property=\"al:android:package\" content=\"com.sparkslab.dcardreader\"/><meta data-react-helmet=\"true\" property=\"al:android:app_name\" content=\"Dcard\"/><meta data-react-helmet=\"true\" property=\"og:type\" content=\"website\"/><meta data-react-helmet=\"true\" property=\"og:site_name\" content=\"Dcard\"/><meta data-react-helmet=\"true\" property=\"og:title\" content=\"Dcard\"/><meta data-react-helmet=\"true\" property=\"og:url\" content=\"https://www.dcard.tw/f\"/><meta data-react-helmet=\"true\" name=\"description\" content=\"廣受年輕人喜愛的  Dcard  是台灣最大的匿名交流平台，舉凡時事話題、感情心情、吃喝玩樂、學習工作等，都有卡友陪你聊！\"/><meta data-react-helmet=\"true\" property=\"og:description\" content=\"廣受年輕人喜愛的  Dcard  是台灣最大的匿名交流平台，舉凡時事話題、感情心情、吃喝玩樂、學習工作等，都有卡友陪你聊！\"/><meta data-react-helmet=\"true\" property=\"al:ios:url\" content=\"dcard://category/all/全部/hot\"/><meta data-react-helmet=\"true\" property=\"al:android:url\" content=\"dcard://category/all/全部/hot\"/><link data-react-helmet=\"true\" rel=\"icon\" sizes=\"32x32\" type=\"image/png\" href=\"/build/favicon_32-44259074.png\"/><link data-react-helmet=\"true\" rel=\"icon\" sizes=\"72x72\" type=\"image/png\" href=\"/build/favicon_72-45b1e0ba.png\"/><link data-react-helmet=\"true\" rel=\"icon\" sizes=\"512x512\" type=\"image/png\" href=\"/build/favicon_512-8aee0703.png\"/><link data-react-helmet=\"true\" rel=\"apple-touch-icon-precomposed\" href=\"/build/favicon_144-79557003.png\"/><link data-react-helmet=\"true\" rel=\"apple-touch-icon-precomposed\" href=\"/build/favicon_114-4a463b43.png\"/><link data-react-helmet=\"true\" rel=\"apple-touch-icon-precomposed\" href=\"/build/favicon_72-45b1e0ba.png\"/><link data-react-helmet=\"true\" rel=\"apple-touch-icon-precomposed\" href=\"/build/favicon_57-835f1693.png\"/><link data-react-helm\n"
     ]
    }
   ],
   "source": [
    "url = 'https://www.dcard.tw/f'\n",
    "r = requests.get(url)\n",
    "r.encoding = 'utf-8'\n",
    "\n",
    "print(r.text[0:3000])"
   ]
  },
  {
   "cell_type": "code",
   "execution_count": 34,
   "metadata": {},
   "outputs": [
    {
     "name": "stdout",
     "output_type": "stream",
     "text": [
      "Request 取回之後該怎麼取出資料，資料型態是什麼？ => 資料型態為：<class 'requests.models.Response'>，透過BeautifulSoup套件，將r.text字串轉為物件\n",
      "<class 'bs4.BeautifulSoup'>\n"
     ]
    }
   ],
   "source": [
    "print('Request 取回之後該怎麼取出資料，資料型態是什麼？ => 資料型態為：' + str(type(r)) + '，透過BeautifulSoup套件，將r.text字串轉為物件')\n",
    "\n",
    "soup = BeautifulSoup(r.text)"
   ]
  },
  {
   "cell_type": "code",
   "execution_count": 35,
   "metadata": {},
   "outputs": [
    {
     "name": "stdout",
     "output_type": "stream",
     "text": [
      "為什麼要使用 BeatifulSoup 處理？處理後的型態是什麼？ => \n",
      "BeautifulSoup的功能包含HTML/XML文件解析、修復標籤未閉合等文件。專門負責爬蟲中解析資料的部份\n",
      "型態為：<class 'bs4.BeautifulSoup'>\n"
     ]
    }
   ],
   "source": [
    "print('為什麼要使用 BeatifulSoup 處理？處理後的型態是什麼？ => ')\n",
    "print('BeautifulSoup的功能包含HTML/XML文件解析、修復標籤未閉合等文件。專門負責爬蟲中解析資料的部份')\n",
    "print('型態為：' + str(type(soup)))"
   ]
  },
  {
   "cell_type": "markdown",
   "metadata": {},
   "source": [
    "### 2. 知乎： https://www.zhihu.com/explore"
   ]
  },
  {
   "cell_type": "code",
   "execution_count": 36,
   "metadata": {},
   "outputs": [
    {
     "name": "stdout",
     "output_type": "stream",
     "text": [
      "<html>\r\n",
      "<head><title>400 Bad Request</title></head>\r\n",
      "<body bgcolor=\"white\">\r\n",
      "<center><h1>400 Bad Request</h1></center>\r\n",
      "<hr><center>openresty</center>\r\n",
      "</body>\r\n",
      "</html>\r\n",
      "\n"
     ]
    }
   ],
   "source": [
    "url = 'https://www.zhihu.com/explore'\n",
    "r = requests.get(url)\n",
    "r.encoding = 'utf-8'\n",
    "\n",
    "print(r.text[0:600])"
   ]
  },
  {
   "cell_type": "markdown",
   "metadata": {},
   "source": [
    "### 3. 觀察一下知乎回來的資料好像有點怪怪的，該怎麼解決？"
   ]
  },
  {
   "cell_type": "code",
   "execution_count": 8,
   "metadata": {},
   "outputs": [
    {
     "name": "stdout",
     "output_type": "stream",
     "text": [
      "<!doctype html>\n",
      "<html lang=\"zh\" data-hairline=\"true\" data-theme=\"light\"><head><meta charSet=\"utf-8\"/><title data-react-helmet=\"true\">发现 - 知乎</title><meta name=\"viewport\" content=\"width=device-width,initial-scale=1,maximum-scale=1\"/><meta name=\"renderer\" content=\"webkit\"/><meta name=\"force-rendering\" content=\"webkit\"/><meta http-equiv=\"X-UA-Compatible\" content=\"IE=edge,chrome=1\"/><meta name=\"google-site-verification\" content=\"FTeR0c8arOPKh8c5DYh_9uu98_zJbaWw53J-Sch9MTg\"/><meta name=\"description\" property=\"og:description\" content=\"有问题，上知乎。知乎，可信赖的问答社区，以让每个人高效获得可信赖的解答为使命。知乎凭借认真、专业和友善的社区氛围，结构化、易获得的\n",
      "发现 - 知乎\n",
      "\n",
      "//www.zhihu.com\n",
      "首页\n",
      "//www.zhihu.com/\n",
      "发现\n",
      "//www.zhihu.com/explore\n",
      "等你来答\n",
      "//www.zhihu.com/question/waiting\n",
      "\n",
      "/special/20102937\n",
      "TOP 云厂商都青睐 ARM：趋势真的拦不住了！\n",
      "/special/20102937\n",
      "全面趋势\n",
      "/special/20102937#NewsSpecial-SubModule-1192399154486394880\n",
      "ARM 架构产品有什么优势？\n",
      "/question/361826840\n",
      "谁在用？\n",
      "/special/20102937#NewsSpecial-SubModule-1192399256865304576\n",
      "鲲鹏 920 芯片厉害在哪？\n",
      "/question/308299017\n",
      "上手试试\n",
      "/special/20102937#NewsSpecial-SubModule-1192399303904210944\n",
      "华为云鲲鹏开发入门大全\n",
      "https://zhuanlan.zhihu.com/p/98648543\n",
      "\n",
      "/special/21200462\n",
      "如果过冬的你需要一点温暖\n",
      "/special/21200462\n",
      "这里，我们互相取暖\n",
      "/special/21200462#NewsSpecial-SubModule-1191806722199834624\n",
      "别人对你说过最棒的赞美是什么？\n",
      "/question/60379572\n",
      "分享一点甜\n",
      "/special/21200462#NewsSpecial-SubModule-1191855233486110720\n",
      "被一个男孩亲吻到天亮是什么样的感觉？\n",
      "/question/349418115\n",
      "家里那盏灯\n",
      "/special/21200462#NewsSpecial-SubModule-1191796982593875968\n",
      "有一个可爱的婆婆是什么体验？\n",
      "/answer/828826832\n",
      "\n",
      "/special/21200692\n",
      "2019 年度体坛关键词\n",
      "/special/21200692\n",
      "你的体坛 2019\n",
      "/special/21200692#NewsSpecial-SubModule-1191112830580256768\n",
      "你心目中的体坛关键词有哪些？\n",
      "/question/359289512\n",
      "领奖台\n",
      "/special/21200692#NewsSpecial-SubModule-1191026718650163200\n",
      "孙杨禁药风波\n",
      "/question/310422565\n",
      "十全十美\n",
      "/special/21200692#NewsSpecial-SubModule-1191101326678016000\n",
      "中国女排，十冠王！\n",
      "/answer/839688100\n",
      "\n",
      "/special/19594918\n",
      "「VVIP」背后的迷幻操作\n",
      "/special/19594918\n",
      "热点追踪\n",
      "/special/19594918#NewsSpecial-SubModule-1190706256242098176\n",
      "法律优秀回答者@吴声威 VS 爱奇艺「超前点播」\n",
      "/question/361347352\n",
      "硬核知识库\n",
      "/special/19594918#NewsSpecial-SubModule-1190706537080147968\n",
      "「格式条款」到底是什么，法律上如何认定？\n",
      "/question/361632070\n",
      "格式条款里的「骚操作」\n",
      "/special/19594918#NewsSpecial-SubModule-1190711269529862144\n",
      "腾讯「新闻哥」：中国人不配拥有精神生活！不配！?\n",
      "/question/361903076\n",
      "查看更多专题\n",
      "/special/all\n",
      "2019，汽车大时代\n",
      "/roundtable/2019qichepandian\n",
      "2019 年的汽车行业，是不太好过的一年；这一年，汽车行业都发生了哪些大事件？身处「寒潮」中的我们该如何应对？本期圆桌，请跟随我们一起回顾即将过去的 2019 年，欢迎参与~\n",
      "/roundtable/2019qichepandian\n",
      "2019 接近尾声，身为汽车行业从业者，可以总结一下你的 2019 年吗？\n",
      "/question/356781956\n",
      "2019 年，汽车行业的关键词有哪些？反映了怎样的行业趋势？\n",
      "/question/360042483\n",
      "身为汽车从业者，你对 2020 年的汽车行业有哪些期待？\n",
      "/question/360445563\n",
      "成为一名管理会计\n",
      "/roundtable/guanliyuhuiji\n",
      "都说学财务未来的方向管理会计，但管理与会计怎么融合你了解吗？怎么才能成为一名管理会计，在这方面你有什么经验可以介绍，我们邀请到众多财务专业人士，与你一起排忧解惑。\n",
      "/roundtable/guanliyuhuiji\n",
      "会计应届生第一份工作找什么？\n",
      "/question/312705499\n",
      "怎么规划自己的会计/财务道路？\n",
      "/question/26011826\n",
      "如何写出有深度的财务分析报告？\n",
      "/question/38624533\n",
      "2019 科学这一年\n",
      "/roundtable/2019science\n",
      "2019 就要过去了，今年的学术界发生了哪些令人印象深刻的大事？这 365 个学术日夜，又给你的科研生涯带来了哪些变化？本期圆桌，我们一起来回顾 2019 这一年，回顾人类在每一个未知领域跨出的微小一步。\n",
      "/roundtable/2019science\n",
      "作为科研工作者，你的 2019 年都在哪些地方留下过足迹？最令你难忘的是哪一处？\n",
      "/question/361684582\n",
      "2019 年，你在科研生涯中留下过哪些美好的照片？\n",
      "/question/361684745\n",
      "你觉得 2019 年中国的科普环境是变好了还是变糟了？\n",
      "/question/361229133\n",
      "礼物送什么丨圣诞季\n",
      "/roundtable/2019christmasgift\n",
      "时值岁末新年，是节日季也是礼物季，在这个物质并不匮乏的年代，送礼却依旧是难事。送别人发愁，送自己也要好好研究一番。究竟礼物要怎么选，又有哪些值得送的备选礼物呢？先从圣诞礼物入手，来聊聊你都有哪些值得买的分享吧！\n",
      "/roundtable/2019christmasgift\n",
      "圣诞节快到了，送女友什么礼物才会显得不落俗套，看起来实用又有品味？\n",
      "/question/26838581\n",
      "有什么适合送给同事的圣诞礼物？\n",
      "/question/26995992\n",
      "要圣诞节了，送刚交往的男朋友什么礼物？\n",
      "/question/37654354\n",
      "查看更多圆桌\n",
      "/roundtable\n",
      "比较有想法的回答\n",
      "/collection/29711207\n",
      "\n",
      "//www.zhihu.com/people/mao-ling-44\n",
      "猫灵\n",
      "/people/mao-ling-44\n",
      "印度的人口任其发展下去，会产生哪些灾难？\n",
      "https://www.zhihu.com/answer/945146067\n",
      "刘秀近乎完美，为何在历史中存在感不高？\n",
      "https://www.zhihu.com/answer/865235642\n",
      "已收藏 4,214 条内容\n",
      "/collection/29711207\n",
      "useful knowledge\n",
      "/collection/40630183\n",
      "\n",
      "//www.zhihu.com/people/zhen-tou-xiao-jie\n",
      "成为她\n",
      "/people/zhen-tou-xiao-jie\n",
      "怎么把自己皮肤养得好好的？\n",
      "https://www.zhihu.com/answer/62615051\n",
      "有什么适合小女生喝的养生茶？\n",
      "https://www.zhihu.com/answer/903407919\n",
      "已收藏 929 条内容\n",
      "/collection/40630183\n",
      "提高自己（干货）\n",
      "/collection/82408305\n",
      "\n",
      "//www.zhihu.com/people/gigglewong\n",
      "Giggle\n",
      "/people/gigglewong\n",
      "留学建议去哪个国家呢？\n",
      "https://www.zhihu.com/answer/946728241\n",
      "使用自制语言是什么体验？\n",
      "https://zhuanlan.zhihu.com/p/96970012\n",
      "已收藏 2,321 条内容\n",
      "/collection/82408305\n",
      "其它行业知(内)识(幕)\n",
      "/collection/117231310\n",
      "知乎用户\n",
      "/people/\n",
      "美国家庭为什么容易破产？\n",
      "https://www.zhihu.com/answer/867757449\n",
      "@张川\n",
      "https://www.zhihu.com/people/3e9c0881016f601b93cb897018b2dee2\n",
      "@Y.X\n",
      "https://www.zhihu.com/people/18cb49894f9adf215befd9e75fc91c64\n",
      "死刑与真正的无期徒刑相比,哪个较有威慑力？\n",
      "https://www.zhihu.com/answer/271380484\n",
      "已收藏 1,182 条内容\n",
      "/collection/117231310\n",
      "查看更多收藏夹\n",
      "/collection/hot\n",
      "\n",
      "https://zhuanlan.zhihu.com/c_201557035\n",
      "电竞GO\n",
      "https://zhuanlan.zhihu.com/c_201557035\n",
      "\n",
      "https://zhuanlan.zhihu.com/jyzyx0\n",
      "张尧浠:《玩赚黄金投资交易》\n",
      "https://zhuanlan.zhihu.com/jyzyx0\n",
      "\n",
      "https://zhuanlan.zhihu.com/abcwj\n",
      "网聚创业\n",
      "https://zhuanlan.zhihu.com/abcwj\n",
      "\n",
      "https://zhuanlan.zhihu.com/testdaily\n",
      "TD北美留学进化论\n",
      "https://zhuanlan.zhihu.com/testdaily\n",
      "查看更多专栏\n",
      "https://zhuanlan.zhihu.com\n",
      "刘看山\n",
      "https://liukanshan.zhihu.com\n",
      "知乎指南\n",
      "https://www.zhihu.com/question/19581624\n",
      "知乎协议\n",
      "https://www.zhihu.com/terms\n",
      "应用\n",
      "https://www.zhihu.com/app\n",
      "工作\n",
      "https://app.mokahr.com/apply/zhihu/3819\n",
      "联系我们\n",
      "https://www.zhihu.com/contact\n"
     ]
    }
   ],
   "source": [
    "import requests\n",
    "from bs4 import BeautifulSoup\n",
    "\n",
    "url = 'https://www.zhihu.com/explore'\n",
    "\n",
    "# 偽裝成瀏覽器，在Request Header裡面補上user-agent即可\n",
    "headers = {'user-agent': 'Mozilla/5.0 (Macintosh; Intel Mac OS X 10_15_1) AppleWebKit/537.36 (KHTML, like Gecko) Chrome/79.0.3945.94 Safari/537.36'}\n",
    "\n",
    "r = requests.get(url,headers=headers)\n",
    "\n",
    "r.encoding = 'utf-8'\n",
    "print(r.text[0:600])\n",
    "\n",
    "soup = BeautifulSoup(r.text)\n",
    "# 找出網頁標題\n",
    "print(soup.title.text)\n",
    "# 找出所有超連結名稱\n",
    "all_a_items = soup.find_all('a')\n",
    "for item in all_a_items:\n",
    "    print(item.text)\n",
    "    print(item['href'])"
   ]
  },
  {
   "cell_type": "code",
   "execution_count": null,
   "metadata": {},
   "outputs": [],
   "source": []
  },
  {
   "cell_type": "code",
   "execution_count": null,
   "metadata": {},
   "outputs": [],
   "source": []
  }
 ],
 "metadata": {
  "kernelspec": {
   "display_name": "Python 3",
   "language": "python",
   "name": "python3"
  },
  "language_info": {
   "codemirror_mode": {
    "name": "ipython",
    "version": 3
   },
   "file_extension": ".py",
   "mimetype": "text/x-python",
   "name": "python",
   "nbconvert_exporter": "python",
   "pygments_lexer": "ipython3",
   "version": "3.7.4"
  }
 },
 "nbformat": 4,
 "nbformat_minor": 2
}
